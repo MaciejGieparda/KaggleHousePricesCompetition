{
 "cells": [
  {
   "cell_type": "markdown",
   "id": "aeff0721",
   "metadata": {},
   "source": [
    "# 🔬 Model Comparison & Submission – House Prices"
   ]
  },
  {
   "cell_type": "code",
   "execution_count": null,
   "id": "15c28eab",
   "metadata": {},
   "outputs": [],
   "source": [
    "# Import necessary libraries\n",
    "import pandas as pd\n",
    "import numpy as np\n",
    "from sklearn.model_selection import cross_val_score, KFold\n",
    "from sklearn.linear_model import Ridge\n",
    "from sklearn.ensemble import RandomForestRegressor\n",
    "from sklearn.metrics import mean_squared_error\n",
    "import lightgbm as lgb\n",
    "import xgboost as xgb\n",
    "\n",
    "# Load cleaned training and test data\n",
    "train = pd.read_csv('../data/train_clean.csv')\n",
    "test = pd.read_csv('../data/test.csv')\n",
    "sample_submission = pd.read_csv('../data/sample_submission.csv')"
   ]
  },
  {
   "cell_type": "code",
   "execution_count": null,
   "id": "eac05104",
   "metadata": {},
   "outputs": [],
   "source": [
    "# Custom preprocessing\n",
    "from src.preprocess import preprocess\n",
    "\n",
    "# Preprocess training data\n",
    "train, label_encoders = preprocess(train, is_train=True)\n",
    "\n",
    "# Preprocess test data using train encoders\n",
    "test = preprocess(test, is_train=False, label_encoders=label_encoders)"
   ]
  },
  {
   "cell_type": "code",
   "execution_count": null,
   "id": "dc6b2ebf",
   "metadata": {},
   "outputs": [],
   "source": [
    "# Prepare train and test datasets\n",
    "X = train.drop(['SalePrice'], axis=1)\n",
    "y = train['SalePrice']\n",
    "\n",
    "# Match test columns to training (drop SalePrice if exists)\n",
    "X_test = test[X.columns] if 'SalePrice' not in test.columns else test.drop(['SalePrice'], axis=1)"
   ]
  },
  {
   "cell_type": "markdown",
   "id": "3f0c1502",
   "metadata": {},
   "source": [
    "## 📊 Cross-Validation Comparison"
   ]
  },
  {
   "cell_type": "code",
   "execution_count": null,
   "id": "57e032a1",
   "metadata": {},
   "outputs": [],
   "source": [
    "# Define cross-validation strategy\n",
    "kf = KFold(n_splits=5, shuffle=True, random_state=42)\n",
    "\n",
    "def rmse_cv(model):\n",
    "    rmse = np.sqrt(-cross_val_score(model, X, y, scoring=\"neg_mean_squared_error\", cv=kf))\n",
    "    return rmse.mean()\n",
    "\n",
    "models = {\n",
    "    \"Ridge\": Ridge(alpha=1.0),\n",
    "    \"RandomForest\": RandomForestRegressor(n_estimators=100, random_state=42),\n",
    "    \"LightGBM\": lgb.LGBMRegressor(random_state=42),\n",
    "    \"XGBoost\": xgb.XGBRegressor(random_state=42)\n",
    "}\n",
    "\n",
    "results = {}\n",
    "for name, model in models.items():\n",
    "    score = rmse_cv(model)\n",
    "    results[name] = score\n",
    "    print(f\"{name}: RMSE = {score:.2f}\")"
   ]
  },
  {
   "cell_type": "markdown",
   "id": "0d8739fd",
   "metadata": {},
   "source": [
    "## 🏁 Train Final Model & Predict"
   ]
  },
  {
   "cell_type": "markdown",
   "id": "be2f32fb",
   "metadata": {},
   "source": [
    "## 📈 Model Performance Comparison"
   ]
  },
  {
   "cell_type": "code",
   "execution_count": null,
   "id": "4d51eacb",
   "metadata": {},
   "outputs": [],
   "source": [
    "# Visualize model RMSE scores\n",
    "import matplotlib.pyplot as plt\n",
    "\n",
    "model_names = list(results.keys())\n",
    "rmse_scores = list(results.values())\n",
    "\n",
    "plt.figure(figsize=(8, 5))\n",
    "bars = plt.bar(model_names, rmse_scores, color='skyblue')\n",
    "plt.title('Model Comparison (Lower RMSE is Better)')\n",
    "plt.ylabel('RMSE')\n",
    "plt.grid(axis='y')\n",
    "\n",
    "# Annotate bars\n",
    "for bar in bars:\n",
    "    yval = bar.get_height()\n",
    "    plt.text(bar.get_x() + bar.get_width()/2.0, yval + 500, f'{yval:.0f}', ha='center', va='bottom')\n",
    "\n",
    "plt.tight_layout()\n",
    "plt.show()"
   ]
  },
  {
   "cell_type": "code",
   "execution_count": null,
   "id": "8aaf9053",
   "metadata": {},
   "outputs": [],
   "source": [
    "# Choose the best model (LightGBM in this case, can be changed)\n",
    "final_model = lgb.LGBMRegressor(random_state=42)\n",
    "final_model.fit(X, y)\n",
    "preds = final_model.predict(X_test)"
   ]
  },
  {
   "cell_type": "markdown",
   "id": "66249564",
   "metadata": {},
   "source": [
    "## 💾 Save Submission"
   ]
  },
  {
   "cell_type": "code",
   "execution_count": null,
   "id": "dda9c4d6",
   "metadata": {},
   "outputs": [],
   "source": [
    "# Prepare submission file\n",
    "submission = sample_submission.copy()\n",
    "submission['SalePrice'] = preds\n",
    "submission.to_csv('../data/submission.csv', index=False)\n",
    "print('✅ Submission saved to ../data/submission.csv')"
   ]
  }
 ],
 "metadata": {},
 "nbformat": 4,
 "nbformat_minor": 5
}
