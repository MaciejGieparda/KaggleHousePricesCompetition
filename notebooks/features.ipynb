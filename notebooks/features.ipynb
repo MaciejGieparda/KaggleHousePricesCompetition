{
 "cells": [
  {
   "cell_type": "markdown",
   "id": "dd3f6ab4",
   "metadata": {},
   "source": [
    "# 🛠️ Feature Engineering – House Prices Dataset"
   ]
  },
  {
   "cell_type": "code",
   "execution_count": null,
   "id": "f9a1905a",
   "metadata": {},
   "outputs": [],
   "source": [
    "# Import libraries\n",
    "import pandas as pd\n",
    "import numpy as np\n",
    "\n",
    "# Load training data\n",
    "train = pd.read_csv('../data/train.csv')\n",
    "train.shape"
   ]
  },
  {
   "cell_type": "markdown",
   "id": "a909dc29",
   "metadata": {},
   "source": [
    "## 🧩 Interpret missing values as absence of features"
   ]
  },
  {
   "cell_type": "code",
   "execution_count": null,
   "id": "773719be",
   "metadata": {},
   "outputs": [],
   "source": [
    "# Replace NaNs with 'None' or 0 where appropriate (not imputation, but semantic replacement)\n",
    "none_cols = [\n",
    "    'PoolQC', 'MiscFeature', 'Alley', 'Fence', 'FireplaceQu', 'GarageType', 'GarageFinish',\n",
    "    'GarageQual', 'GarageCond', 'BsmtQual', 'BsmtCond', 'BsmtExposure',\n",
    "    'BsmtFinType1', 'BsmtFinType2', 'MasVnrType', 'Electrical'\n",
    "]\n",
    "\n",
    "for col in none_cols:\n",
    "    train[col] = train[col].fillna('None')\n",
    "\n",
    "zero_cols = ['GarageYrBlt', 'MasVnrArea', 'BsmtFullBath', 'BsmtHalfBath', 'BsmtFinSF1', 'BsmtFinSF2', 'BsmtUnfSF', 'TotalBsmtSF']\n",
    "for col in zero_cols:\n",
    "    train[col] = train[col].fillna(0)\n",
    "\n",
    "# Check remaining missing values\n",
    "train.isnull().sum().sort_values(ascending=False).head(10)"
   ]
  },
  {
   "cell_type": "markdown",
   "id": "67965ffe",
   "metadata": {},
   "source": [
    "## 🧪 Add binary features to indicate presence of key attributes"
   ]
  },
  {
   "cell_type": "code",
   "execution_count": null,
   "id": "e8aee1d1",
   "metadata": {},
   "outputs": [],
   "source": [
    "# Create binary indicator columns\n",
    "train['HasPool'] = (train['PoolQC'] != 'None').astype(int)\n",
    "train['HasGarage'] = (train['GarageType'] != 'None').astype(int)\n",
    "train['HasBasement'] = (train['BsmtQual'] != 'None').astype(int)\n",
    "train['HasFireplace'] = (train['FireplaceQu'] != 'None').astype(int)\n",
    "train['HasFence'] = (train['Fence'] != 'None').astype(int)\n",
    "\n",
    "train[['HasPool', 'HasGarage', 'HasBasement', 'HasFireplace', 'HasFence']].head()"
   ]
  },
  {
   "cell_type": "markdown",
   "id": "2b74c487",
   "metadata": {},
   "source": [
    "## 🧮 Neighborhood-wise imputation of LotFrontage"
   ]
  },
  {
   "cell_type": "code",
   "execution_count": null,
   "id": "094e97fc",
   "metadata": {},
   "outputs": [],
   "source": [
    "# Fill LotFrontage by median value per Neighborhood\n",
    "train['LotFrontage'] = train.groupby('Neighborhood')['LotFrontage'].transform(\n",
    "    lambda x: x.fillna(x.median())\n",
    ")\n",
    "\n",
    "# Confirm LotFrontage has no missing values\n",
    "train['LotFrontage'].isnull().sum()"
   ]
  },
  {
   "cell_type": "markdown",
   "id": "48b830ce",
   "metadata": {},
   "source": [
    "## 🔤 Encode Categorical Variables"
   ]
  },
  {
   "cell_type": "code",
   "execution_count": null,
   "id": "6c24e1a7",
   "metadata": {},
   "outputs": [],
   "source": [
    "# Select categorical columns\n",
    "cat_cols = train.select_dtypes(include=['object']).columns.tolist()\n",
    "cat_cols"
   ]
  },
  {
   "cell_type": "code",
   "execution_count": null,
   "id": "ef88531a",
   "metadata": {},
   "outputs": [],
   "source": [
    "# Apply Label Encoding for simplicity (for baseline models)\n",
    "from sklearn.preprocessing import LabelEncoder\n",
    "\n",
    "label_encoders = {}\n",
    "\n",
    "for col in cat_cols:\n",
    "    le = LabelEncoder()\n",
    "    train[col] = le.fit_transform(train[col])\n",
    "    label_encoders[col] = le\n",
    "\n",
    "# Preview encoded data\n",
    "train[cat_cols].head()"
   ]
  },
  {
   "cell_type": "markdown",
   "id": "cb6242d8",
   "metadata": {},
   "source": [
    "## 💾 Save Processed Data"
   ]
  },
  {
   "cell_type": "code",
   "execution_count": null,
   "id": "2ec72c71",
   "metadata": {},
   "outputs": [],
   "source": [
    "# Save the processed training data to CSV\n",
    "train.to_csv('../data/train_clean.csv', index=False)\n",
    "print(\"✅ Saved to ../data/train_clean.csv\")"
   ]
  }
 ],
 "metadata": {},
 "nbformat": 4,
 "nbformat_minor": 5
}
