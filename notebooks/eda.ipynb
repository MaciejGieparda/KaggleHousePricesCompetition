{
 "cells": [
  {
   "cell_type": "markdown",
   "id": "542c7870",
   "metadata": {},
   "source": [
    "# 🧠 Exploratory Data Analysis – House Prices Dataset"
   ]
  },
  {
   "cell_type": "code",
   "execution_count": null,
   "id": "038b78e5",
   "metadata": {},
   "outputs": [],
   "source": [
    "# Import libraries\n",
    "import pandas as pd\n",
    "import matplotlib.pyplot as plt\n",
    "import seaborn as sns\n",
    "\n",
    "%matplotlib inline"
   ]
  },
  {
   "cell_type": "code",
   "execution_count": null,
   "id": "2a9f9a62",
   "metadata": {},
   "outputs": [],
   "source": [
    "# Load the training and test datasets\n",
    "train = pd.read_csv('../data/train.csv')\n",
    "test = pd.read_csv('../data/test.csv')\n",
    "train.shape, test.shape"
   ]
  },
  {
   "cell_type": "code",
   "execution_count": null,
   "id": "a8da7a10",
   "metadata": {},
   "outputs": [],
   "source": [
    "# Preview the first few rows of the training set\n",
    "train.head()"
   ]
  },
  {
   "cell_type": "code",
   "execution_count": null,
   "id": "decc7e60",
   "metadata": {},
   "outputs": [],
   "source": [
    "# Check for missing values in the training set\n",
    "train.isnull().sum().sort_values(ascending=False).head(20)"
   ]
  },
  {
   "cell_type": "code",
   "execution_count": null,
   "id": "83aff7b6",
   "metadata": {},
   "outputs": [],
   "source": [
    "# Visualize the distribution of the target variable 'SalePrice'\n",
    "sns.histplot(train['SalePrice'], kde=True)\n",
    "plt.title('Distribution of Sale Price')\n",
    "plt.xlabel('Sale Price')\n",
    "plt.ylabel('Count')\n",
    "plt.show()"
   ]
  },
  {
   "cell_type": "markdown",
   "id": "3fdb6b54",
   "metadata": {},
   "source": [
    "## 📉 Outlier Detection\n",
    "\n",
    "Let's visualize key numerical features with the highest correlation to `SalePrice` to detect possible outliers.\n"
   ]
  },
  {
   "cell_type": "code",
   "execution_count": null,
   "id": "b8e0c0c5",
   "metadata": {},
   "outputs": [],
   "source": [
    "# Scatter plot of GrLivArea vs SalePrice\n",
    "plt.figure(figsize=(8, 6))\n",
    "sns.scatterplot(data=train, x='GrLivArea', y='SalePrice')\n",
    "plt.title('GrLivArea vs SalePrice')\n",
    "plt.xlabel('Above Ground Living Area (sq ft)')\n",
    "plt.ylabel('Sale Price')\n",
    "plt.show()\n",
    "\n",
    "# Check for unusually large living areas with low sale prices\n",
    "train[(train['GrLivArea'] > 4000) & (train['SalePrice'] < 300000)]"
   ]
  },
  {
   "cell_type": "code",
   "execution_count": null,
   "id": "54f2db91",
   "metadata": {},
   "outputs": [],
   "source": [
    "# Compute and visualize correlation with SalePrice\n",
    "corr = train.corr(numeric_only=True)\n",
    "sns.heatmap(corr[['SalePrice']].sort_values('SalePrice', ascending=False), \n",
    "            annot=True, cmap='coolwarm')\n",
    "plt.title('Feature Correlation with SalePrice')"
   ]
  },
  {
   "cell_type": "markdown",
   "id": "4c0e4109",
   "metadata": {},
   "source": [
    "## 🧩 Interpreting Missing Values\n",
    "\n",
    "In this dataset, many `NaN` values **are not missing at random**, but rather represent **the absence of a feature**.\n",
    "\n",
    "For example:\n",
    "- `PoolQC` is NaN → there is no pool.\n",
    "- `GarageType` is NaN → no garage.\n",
    "- `Fence` is NaN → no fence.\n",
    "\n",
    "⚠️ Therefore, **dropping or blindly imputing missing values is not appropriate**.\n",
    "We will instead treat them as meaningful categorical values in further processing.\n"
   ]
  },
  {
   "cell_type": "code",
   "execution_count": null,
   "id": "dddf3795",
   "metadata": {},
   "outputs": [],
   "source": [
    "# Display the top 10 features most correlated with SalePrice\n",
    "corr['SalePrice'].abs().sort_values(ascending=False).head(10)"
   ]
  }
 ],
 "metadata": {
  "language_info": {
   "name": "python"
  }
 },
 "nbformat": 4,
 "nbformat_minor": 5
}
